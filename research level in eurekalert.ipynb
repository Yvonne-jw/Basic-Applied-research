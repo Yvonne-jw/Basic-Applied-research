{
 "cells": [
  {
   "cell_type": "code",
   "execution_count": 121,
   "id": "17f29cee",
   "metadata": {
    "scrolled": true
   },
   "outputs": [],
   "source": [
    "import pandas as pd\n",
    "import numpy as np\n",
    "from pandas.core.frame import DataFrame\n",
    "from tqdm import tqdm\n",
    "import math\n",
    "import pymssql\n",
    "import csv\n",
    "import matplotlib.pyplot as plt\n",
    "import time\n",
    "import seaborn as sns"
   ]
  },
  {
   "cell_type": "code",
   "execution_count": 110,
   "id": "d23143fb",
   "metadata": {},
   "outputs": [],
   "source": [
    "f1 = open('/Eurekalert_research_level.csv',encoding='utf-8-sig')\n",
    "data_rl = pd.read_csv(f2,sep=';')\n",
    "f1.close()"
   ]
  },
  {
   "cell_type": "code",
   "execution_count": null,
   "id": "e8d8bd4e",
   "metadata": {
    "scrolled": true
   },
   "outputs": [],
   "source": [
    "#Figure 1\n",
    "plt.figure(figsize=(10, 6))\n",
    "sns.set(style=\"whitegrid\") \n",
    "#colors\n",
    "\n",
    "color2 = [52/255.0, 108/255.0,172/255.0]\n",
    "\n",
    "color4 = [247/255.0, 228/255.0,116/255.0]\n",
    "\n",
    "rgb_list = [color2,color4]\n",
    "\n",
    "#data\n",
    "grouped_data = data_rl.groupby(['post_time', 'RL_number'])['euid'].count( ).reset_index()\n",
    "\n",
    "# distribution over time\n",
    "i = 0\n",
    "for category, data in grouped_data.groupby('RL_number'):\n",
    "    x = data['post_time']\n",
    "    y = data['euid']\n",
    "    plt.plot(x[0:8], y[0:8], label=category,linewidth =4 ,color = rgb_list[i] ) #,color = rgb_list[i]\n",
    "    i = i+1\n",
    "\n",
    "    \n",
    "handles, labels = plt.gca().get_legend_handles_labels()\n",
    "labels = ['Basic research','Applied research']\n",
    "#handles = [handles[1],handles[0]]\n",
    "\n",
    "\n",
    "plt.legend(handles,labels)\n",
    "\n",
    "\n",
    "plt.xlabel('Year of publication')\n",
    "plt.ylabel('Number of press releases')\n",
    "\n",
    "plt.show() "
   ]
  },
  {
   "cell_type": "code",
   "execution_count": null,
   "id": "41fcfa35",
   "metadata": {},
   "outputs": [],
   "source": [
    "#figure 2\n",
    "RL1 = data_rl[data_rl['LR_main_field'] == 'Mathematics and computer science']\n",
    "grouped_data1 = RL1.groupby(['post_time', 'RL_number'])['euid'].count( ).reset_index()\n",
    "\n",
    "RL2 = data_rl[data_rl['LR_main_field'] == 'Biomedical and health sciences']\n",
    "grouped_data2 = RL2.groupby(['post_time', 'RL_number'])['euid'].count( ).reset_index()\n",
    "\n",
    "RL3 = data_rl[data_rl['LR_main_field'] == 'Physical sciences and engineering']\n",
    "grouped_data3 = RL3.groupby(['post_time', 'RL_number'])['euid'].count( ).reset_index()\n",
    "\n",
    "RL4 = data_rl[data_rl['LR_main_field'] == 'Social sciences and humanities']\n",
    "grouped_data4 = RL4.groupby(['post_time', 'RL_number'])['euid'].count( ).reset_index()\n",
    "\n",
    "RL5 = data_rl[data_rl['LR_main_field'] == 'Life and earth sciences']\n",
    "grouped_data5 = RL5.groupby(['post_time', 'RL_number'])['euid'].count( ).reset_index()\n",
    "\n",
    "fig = plt.figure(figsize=(15, 8))  # create a figure\n",
    "\n",
    "labels = ['Basic research','Applied research']\n",
    "#labels = ['Applied technology','Engineering-technological mix','Applied research','Basic research']\n",
    "# 1， 3\n",
    "ax1 = fig.add_subplot(2, 3, 3)  # (行数, 列数, 位置索引)\n",
    "i = 0\n",
    "for category, data in grouped_data1.groupby('RL_number'):\n",
    "    x = data['post_time']\n",
    "    y = data['euid']\n",
    "    ax1.plot(x[0:8], y[0:8], label=category,linewidth =4,color = rgb_list[i] )#,color = rgb_list[i] )\n",
    "    i = i+1\n",
    "ax1.legend(labels) \n",
    "ax1.set_xlabel('Year of publication')\n",
    "ax1.set_ylabel('Number of press releases')\n",
    "ax1.set_title('Mathematics and computer science')\n",
    "\n",
    "# 1，1 \n",
    "ax2 = fig.add_subplot(2, 3, 1)\n",
    "i = 0\n",
    "for category, data in grouped_data2.groupby('RL_number'):\n",
    "    x = data['post_time']\n",
    "    y = data['euid']\n",
    "    ax2.plot(x[0:8], y[0:8], label=category,linewidth =4,color = rgb_list[i] )#,color = rgb_list[i] )\n",
    "    i = i+1\n",
    "ax2.legend(labels) \n",
    "ax2.set_xlabel('Year of publication')\n",
    "ax2.set_ylabel('Number of press releases')\n",
    "ax2.set_title('Biomedical and health sciences')\n",
    "\n",
    "# 2，1\n",
    "ax3 = fig.add_subplot(2, 3, 4)\n",
    "i = 0\n",
    "for category, data in grouped_data3.groupby('RL_number'):\n",
    "    x = data['post_time']\n",
    "    y = data['euid']\n",
    "    ax3.plot(x[0:8], y[0:8], label=category,linewidth =4,color = rgb_list[i] )# ,color = rgb_list[i] )\n",
    "    i = i+1\n",
    "ax3.legend(labels)\n",
    "ax3.set_xlabel('Year of publication')\n",
    "ax3.set_ylabel('Number of press releases')\n",
    "ax3.set_title('Physical sciences and engineering')\n",
    "\n",
    "# 1，2\n",
    "ax4 = fig.add_subplot(2, 3, 2)\n",
    "i = 0\n",
    "for category, data in grouped_data4.groupby('RL_number'):\n",
    "    x = data['post_time']\n",
    "    y = data['euid']\n",
    "    ax4.plot(x[0:8], y[0:8], label=category,linewidth =4,color = rgb_list[i])#,color = rgb_list[i] )\n",
    "    i = i+1\n",
    "ax4.legend(labels)\n",
    "ax4.set_xlabel('Year of publication')\n",
    "ax4.set_ylabel('Number of press releases')\n",
    "ax4.set_title('Social sciences and humanities')\n",
    "\n",
    "# 2，2\n",
    "ax5 = fig.add_subplot(2, 3, 5)\n",
    "i = 0\n",
    "for category, data in grouped_data5.groupby('RL_number'):\n",
    "    x = data['post_time']\n",
    "    y = data['euid']\n",
    "    ax5.plot(x[0:8], y[0:8], label=category,linewidth =4,color = rgb_list[i])# ,color = rgb_list[i] )\n",
    "    i = i+1\n",
    "ax5.legend(labels) \n",
    "ax5.set_xlabel('Year of publication')\n",
    "ax5.set_ylabel('Number of press releases')\n",
    "ax5.set_title('Life and earth sciences')\n",
    "\n",
    "# 显示图形\n",
    "plt.tight_layout()\n",
    "plt.show()"
   ]
  },
  {
   "cell_type": "code",
   "execution_count": null,
   "id": "443e4fec",
   "metadata": {},
   "outputs": [],
   "source": [
    "----------------------------------calculate the title TFIDF similarity---------------------"
   ]
  },
  {
   "cell_type": "code",
   "execution_count": 58,
   "id": "7852bed1",
   "metadata": {},
   "outputs": [],
   "source": [
    "sql = \"select * from eu_openalex_LR\"# a inner join dimention_abstract_title b on a.euid = b.euid where abstract like '%background:%' or abstract like '%Methods:%'  or abstract like '%purpose:%'\"#\"select * from [userdb_zhangz10].[dbo].[dimention_abstract_title]\"\n",
    "data = sql_df(sql)"
   ]
  },
  {
   "cell_type": "code",
   "execution_count": null,
   "id": "e7887a89",
   "metadata": {},
   "outputs": [],
   "source": [
    "##tfidf model\n",
    "df= pd.DataFrame()\n",
    "df['Merged_eu'] = data['eurekalert_title']   +' ' + data['content']\n",
    "df['Merged_paper']= data['paper_title']   +' ' + data['abstract']\n",
    "\n",
    "def remove_number(text_list):\n",
    "    test_remove = []\n",
    "    for text in text_list:\n",
    "        test_remove.append(re.sub(r'\\d', '', text).replace('_', ''))\n",
    "    return test_remove\n",
    "\n",
    "train = df['Merged_eu'].tolist() + df['Merged_paper'].tolist()\n",
    "train = remove_number(train)\n",
    "mytime = time.time()\n",
    "stop_words = set(stopwords.words('english'))\n",
    "tfidf_model = TfidfVectorizer(max_df = 0.995,min_df=0.005,stop_words=\"english\").fit(train)\n",
    "print(time.time()-mytime)\n",
    "print(len(tfidf_model.get_feature_names_out()))"
   ]
  },
  {
   "cell_type": "code",
   "execution_count": null,
   "id": "d7106a50",
   "metadata": {},
   "outputs": [],
   "source": [
    "#caculat the title similarity by cosine\n",
    "title_similarity = [['euid','cosine_similarity']]\n",
    "file1 = open('/title_similarity_cosine.csv', 'a+', newline='', encoding='utf-8')\n",
    "writer1 = csv.writer(file1, delimiter=';')\n",
    "writer1.writerows( title_similarity)\n",
    "file1.close() \n",
    "\n",
    "for i in tqdm(range(0,len(data['euid']))):\n",
    "    euid = data['euid'][i]\n",
    "    eu_title = data['eurekalert_title'][i]\n",
    "    paper_title = data['paper_title'][i]\n",
    "\n",
    "\n",
    "    tfidf_matrix = tfidf_model.transform([eu_title, paper_title])\n",
    "    similarity = cosine_similarity(tfidf_matrix[1], tfidf_matrix[0])\n",
    "\n",
    "    cosine_sim = round(similarity[0][0],2)\n",
    "\n",
    "    \n",
    "    title_similarity = [[euid,cosine_sim]]\n",
    "    file1 = open('/title_similarity_cosine.csv', 'a+', newline='', encoding='utf-8')\n",
    "    writer1 = csv.writer(file1, delimiter=';')\n",
    "    writer1.writerows( title_similarity)\n",
    "    file1.close()"
   ]
  },
  {
   "cell_type": "code",
   "execution_count": 114,
   "id": "ab0c8071",
   "metadata": {},
   "outputs": [],
   "source": [
    "f1 = open('/title_similarity_cosine.csv',encoding='latin1')\n",
    "title_sim = pd.read_csv(f1,sep=';')\n",
    "f1.close()\n",
    "rl_si = pd.merge(data_rl,title_sim, on='euid', how='inner' )"
   ]
  },
  {
   "cell_type": "code",
   "execution_count": null,
   "id": "2132559c",
   "metadata": {},
   "outputs": [],
   "source": [
    "#Figure 5\n",
    "# 设置 Seaborn 风格\n",
    "sns.set(style=\"ticks\") #style=\"whitegrid\"\n",
    "color1 = [14/255.0, 62/255.0,135/255.0]\n",
    "color2 = [52/255.0, 108/255.0,172/255.0]\n",
    "color3 = [222/255.0, 234/255.0,234/255.0] \n",
    "color4 = [247/255.0, 228/255.0,116/255.0]\n",
    "color5 = [216/255.0, 178/255.0,58/255.0]\n",
    "rgb_list = [color1,color2,color3,color4,color5]\n",
    "# 使用 Seaborn 画箱线图\n",
    "plt.figure(figsize=(12, 6))\n",
    "ax = sns.boxplot(hue = 'RL_number',x = 'post_time', y='cosine_similarity', data=rl_si,palette= [rgb_list[1],rgb_list[3]], linewidth=1,showmeans=True,medianprops= dict(color= rgb_list[0]),meanprops = {'marker':'d','markerfacecolor':rgb_list[4],'markeredgecolor':rgb_list[4]})#'markerfacecolor':'b'\n",
    "#ax.set_xticklabels(['Basic research','Applied research'])\n",
    "ax.set_xticklabels(ax.get_xticklabels())\n",
    "    \n",
    "handles, labels = plt.gca().get_legend_handles_labels()\n",
    "labels = ['Basic research','Applied research']\n",
    "handles = [handles[0],handles[1]]\n",
    "\n",
    "\n",
    "#plt.legend(loc = 'upper right')\n",
    "plt.legend(handles,labels,loc = 'upper right')\n",
    "\n",
    "plt.xlabel('Year of publication')\n",
    "plt.ylabel('Similarity of titles between papers and press releases')\n",
    "plt.show()"
   ]
  },
  {
   "cell_type": "code",
   "execution_count": null,
   "id": "3dd12efb",
   "metadata": {
    "scrolled": true
   },
   "outputs": [],
   "source": [
    "#Figure 6\n",
    "# 设置 Seaborn 风格\n",
    "sns.set(style=\"ticks\") #style=\"whitegrid\"\n",
    "# 使用 Seaborn 画箱线图\n",
    "plt.figure(figsize=(10, 6))\n",
    "ax = sns.boxplot(hue = 'RL_number',x = 'LR_main_field', y='cosine_similarity', data=rl_si, palette= [rgb_list[1],rgb_list[3]],linewidth=1,showmeans=True,medianprops= dict(color= rgb_list[0]),meanprops = {'marker':'d','markerfacecolor':rgb_list[4],'markeredgecolor':rgb_list[4]})#'markerfacecolor':'b'\n",
    "#ax.set_xticklabels(['Basic research','Applied research'])\n",
    "#ax.set_xticklabels(ax.get_xticklabels(), rotation=90)\n",
    "ax.set_xticklabels(['SSH','LES','PSE','BHS','MCS'])\n",
    "handles, labels = plt.gca().get_legend_handles_labels()\n",
    "labels = ['Basic research','Applied research']\n",
    "handles = [handles[0],handles[1]]\n",
    "\n",
    "first_legend = ax.legend(handles, labels, loc='upper left')\n",
    "\n",
    "#dataset_handles = [plt.Line2D([0], [0] ), \n",
    "#                   plt.Line2D([0], [0])]\n",
    "\n",
    "# Add the existing legend back to the plot\n",
    "#ax.add_artist(first_legend)\n",
    "#plt.legend(loc = 'upper right')\n",
    "plt.legend(handles,labels,loc = 'upper right')\n",
    "\n",
    "plt.xlabel('Broad research field')\n",
    "plt.ylabel('Similarity of titles between papers and press releases')\n",
    "plt.show()"
   ]
  },
  {
   "cell_type": "code",
   "execution_count": null,
   "id": "8c6931bf",
   "metadata": {
    "scrolled": true
   },
   "outputs": [],
   "source": [
    "#heatmap\n",
    "#transfer into matrix\n",
    "df = rl_si.groupby(['RL_number','LR_main_field'])['cosine_similarity'].mean().reset_index()\n",
    "#df = df.sort_values(by='RLEV',ascending=True)\n",
    "matrix = df.pivot(index='LR_main_field', columns='RL_number', values='cosine_similarity')\n",
    "# 绘制热力图\n",
    "plt.figure(figsize=(10, 6))\n",
    "x_labels = ['Basic research','Applied research']\n",
    "#sns.heatmap(matrix, annot=True, cmap='Blues')#'viridis'\n",
    "sns.heatmap(matrix, annot=True, cmap='Blues',xticklabels=x_labels)# \n",
    "plt.xticks(rotation=0)\n",
    "# 添加标题和标签\n",
    "#plt.title('Heatmap of 3-Column Data')\n",
    "\n",
    "plt.xlabel('Research Level')\n",
    "plt.ylabel('Broad research field')\n",
    "plt.savefig('D:/Users/zhangz10/research level/data/heatmap_high_res.png', dpi=300, bbox_inches='tight', format='png')\n",
    "# 显示热力图\n",
    "plt.show()\n"
   ]
  },
  {
   "cell_type": "code",
   "execution_count": null,
   "id": "2fbfa496",
   "metadata": {},
   "outputs": [],
   "source": [
    "---------------Read ease-------------"
   ]
  },
  {
   "cell_type": "code",
   "execution_count": 51,
   "id": "db33e063",
   "metadata": {},
   "outputs": [
    {
     "name": "stderr",
     "output_type": "stream",
     "text": [
      "[nltk_data] Downloading package words to \\\\VUW\\Personal$\\Homes\\Z\\zhang\n",
      "[nltk_data]     z10\\Appdata\\Roaming\\nltk_data...\n",
      "[nltk_data]   Package words is already up-to-date!\n"
     ]
    },
    {
     "data": {
      "text/plain": [
       "True"
      ]
     },
     "execution_count": 51,
     "metadata": {},
     "output_type": "execute_result"
    }
   ],
   "source": [
    "import textstat\n",
    "import pronouncing\n",
    "import numpy as np\n",
    "import nltk\n",
    "from nltk import word_tokenize, pos_tag\n",
    "import spacy\n",
    "from nltk.corpus import words\n",
    "common_words = set(words.words())\n",
    "# 加载英语模型\n",
    "nlp = spacy.load(\"en_core_web_sm\")\n",
    "textstat.set_lang(\"en\")\n",
    "nltk.download('words')"
   ]
  },
  {
   "cell_type": "code",
   "execution_count": 52,
   "id": "52722db3",
   "metadata": {},
   "outputs": [],
   "source": [
    "#计算文本的可读性\n",
    "def segment_sentences(text):\n",
    "    sentences = nltk.sent_tokenize(text)\n",
    "    return sentences \n",
    "\n",
    "\n",
    "def calculate_readability(text):\n",
    "    try:\n",
    "        # Flesch Reading Ease\n",
    "        flesch_reading_ease = textstat.flesch_reading_ease(text)     #[0-100]\n",
    "        #grade_level = textstat.flesch_kincaid_grade(text)\n",
    "        gunning_fog_index = textstat.gunning_fog(text)\n",
    "        automated_readability_index = textstat.textstat.smog_index(text)\n",
    "        coleman_liau_index = textstat.coleman_liau_index(text)\n",
    "        \n",
    "        return flesch_reading_ease,gunning_fog_index,automated_readability_index,coleman_liau_index\n",
    "    \n",
    "    except Exception as e:\n",
    "        print(f\"An error occurred: {e}\")\n",
    "        return None"
   ]
  },
  {
   "cell_type": "code",
   "execution_count": 53,
   "id": "0dac6041",
   "metadata": {},
   "outputs": [],
   "source": [
    "sql1 = \"select a.euid,a.RL,a.RL_number,b.content,b.abstract from costas_rlev_out a inner join eu_openalex_LR b on a.euid = b.euid\"\n",
    "data_eu = sql_df(sql1)"
   ]
  },
  {
   "cell_type": "code",
   "execution_count": 56,
   "id": "cbf571dc",
   "metadata": {},
   "outputs": [],
   "source": [
    "full_complex = [['euid','eu_flesch','eu_gunning','eu_automated','eu_coleman', 'paper_flesch','paper_gunning','paper_automated','paper_coleman']]\n",
    "file1 = open('D:/Users/zhangz10/research level/data/eurekalert_sen_readability.csv', 'a+', newline='', encoding='utf-8')\n",
    "writer1= csv.writer(file1, delimiter=';')\n",
    "writer1.writerows(full_complex)\n",
    "file1.close()"
   ]
  },
  {
   "cell_type": "code",
   "execution_count": null,
   "id": "7817a37b",
   "metadata": {},
   "outputs": [],
   "source": [
    "#readability\n",
    "for i in tqdm(range(0,len(data_eu))): #len(df_plos)\n",
    "    \n",
    "    euid = data_eu['euid'][i]\n",
    "    content = data_eu['content'][i].replace('\\u202f','').replace('\\xa0 ','').replace('\\xa0','').replace('###','')\n",
    "    abstract = data_eu['abstract'][i]\n",
    "    eu_flesch,eu_gunning,eu_automated,eu_coleman = calculate_readability(content)\n",
    "    paper_flesch,paper_gunning,paper_automated,paper_coleman = calculate_readability(abstract)\n",
    "    \n",
    "\n",
    "    paper_fulltext = [[euid,eu_flesch,eu_gunning,eu_automated,eu_coleman, paper_flesch,paper_gunning,paper_automated,paper_coleman]]\n",
    "    file2 = open('D:/Users/zhangz10/research level/data/eurekalert_sen_readability.csv', 'a+', newline='', encoding='utf-8')\n",
    "    writer2= csv.writer(file2, delimiter=';')\n",
    "    writer2.writerows(paper_fulltext)\n",
    "    file2.close() \n",
    "    "
   ]
  },
  {
   "cell_type": "code",
   "execution_count": null,
   "id": "36f02b68",
   "metadata": {},
   "outputs": [],
   "source": [
    "--------------------------analysis data_eu------------"
   ]
  },
  {
   "cell_type": "code",
   "execution_count": 117,
   "id": "1c2aa2ea",
   "metadata": {},
   "outputs": [],
   "source": [
    "#abstract\n",
    "f2 = open('D:/Users/zhangz10/research level/data/eurekalert_sen_readability.csv',encoding='utf-8-sig')\n",
    "df1 = pd.read_csv(f2,sep=';')\n",
    "f2.close()"
   ]
  },
  {
   "cell_type": "code",
   "execution_count": 118,
   "id": "03410f09",
   "metadata": {},
   "outputs": [],
   "source": [
    "#readability\n",
    "rl_read = pd.merge(df1,data_rl, on='euid', how='inner' )\n"
   ]
  },
  {
   "cell_type": "code",
   "execution_count": null,
   "id": "44df3b79",
   "metadata": {},
   "outputs": [],
   "source": [
    "#Figure 7\n",
    "fig = plt.figure(figsize=(12,6))  # create a figure\n",
    "\n",
    "#labels = ['Basic research','Applied research']\n",
    "labels = ['Basic research','Applied research']\n",
    "#\n",
    "ax1 = fig.add_subplot(1, 2, 1)\n",
    "\n",
    "#transfer into matrix\n",
    "df = rl_read.groupby(['RL','LR_main_field'])['paper_flesch'].mean().reset_index()\n",
    "#df = df.sort_values(by='RLEV',ascending=True)\n",
    "matrix = df.pivot(index='LR_main_field', columns='RL', values='paper_flesch')\n",
    "matrix = matrix[matrix.columns[::-1]]\n",
    "\n",
    "# plot heatmap of paper abstrasts\n",
    "x_labels = ['Basic research','Applied research']\n",
    "y_lables = ['BHS','LES','MCS','PSE','SSH']\n",
    "#sns.heatmap(matrix, annot=True, cmap='Blues')#'viridis'\n",
    "ax1 = sns.heatmap(matrix, annot=True, cmap='Blues', xticklabels=x_labels,yticklabels=y_lables,vmin=30, vmax=50)\n",
    "\n",
    "#ax1.yticks(rotation=0)\n",
    "ax1.set_xlabel('Research Level')\n",
    "ax1.set_ylabel('Broad research field')\n",
    "ax1.set_title('Readability of paper abstracts')\n",
    "\n",
    "\n",
    "ax2 = fig.add_subplot(1, 2, 2)\n",
    "\n",
    "#transfer into matrix\n",
    "df = rl_read.groupby(['RL','LR_main_field'])['eu_flesch'].mean().reset_index()\n",
    "#df = df.sort_values(by='RLEV',ascending=True)\n",
    "matrix = df.pivot(index='LR_main_field', columns='RL', values='eu_flesch')\n",
    "matrix = matrix[matrix.columns[::-1]]\n",
    "\n",
    "# plot heatmap of press releases\n",
    "x_labels = ['Basic research','Applied research']\n",
    "y_lables = ['BHS','LES','MCS','PSE','SSH']\n",
    "#sns.heatmap(matrix, annot=True, cmap='Blues')#'viridis'\n",
    "ax2 = sns.heatmap(matrix, annot=True, cmap='Blues', xticklabels=x_labels,yticklabels=y_lables,vmin=30, vmax=50)\n",
    "\n",
    "ax2.set_xlabel('Research Level')\n",
    "ax2.set_ylabel('Broad research field')\n",
    "ax2.set_title('Readability of full text of press releases')\n",
    "\n",
    "\n",
    "\n",
    "plt.tight_layout()\n",
    "plt.show()"
   ]
  },
  {
   "cell_type": "code",
   "execution_count": null,
   "id": "523ed8c3",
   "metadata": {},
   "outputs": [],
   "source": [
    "---------------TOP journal,author,institution---------"
   ]
  },
  {
   "cell_type": "code",
   "execution_count": 102,
   "id": "7c3b9e86",
   "metadata": {
    "scrolled": true
   },
   "outputs": [],
   "source": [
    "f2 = open('D:/Users/zhangz10/research level/data/top_journal.csv')\n",
    "df_top = pd.read_csv(f2,sep=';')\n",
    "f2.close()\n",
    "df = df_top.groupby(['journal','RL'])['number'].sum().reset_index()\n",
    "top_data = df.pivot(index='journal', columns='RL', values='number')"
   ]
  },
  {
   "cell_type": "code",
   "execution_count": 104,
   "id": "6b67aaed",
   "metadata": {},
   "outputs": [],
   "source": [
    "f2 = open('D:/Users/zhangz10/research level/data/top_institution.csv')\n",
    "df_top = pd.read_csv(f2,sep=';')\n",
    "f2.close()\n",
    "df = df_top.groupby(['institution','RL'])['number'].sum().reset_index()\n",
    "top_data = df.pivot(index='institution', columns='RL', values='number')"
   ]
  },
  {
   "cell_type": "code",
   "execution_count": 52,
   "id": "bf2ebd78",
   "metadata": {},
   "outputs": [],
   "source": [
    "f2 = open('D:/Users/zhangz10/research level/data/top_organization.csv')\n",
    "df_top = pd.read_csv(f2,sep=';')\n",
    "f2.close()\n",
    "df = df_top.groupby(['author_institution','RL'])['number'].sum().reset_index()\n",
    "top_data = df.pivot(index='author_institution', columns='RL', values='number')"
   ]
  },
  {
   "cell_type": "code",
   "execution_count": null,
   "id": "9127eb1a",
   "metadata": {},
   "outputs": [],
   "source": [
    "#Figure 8,9,10\n",
    "#set plt and colors\n",
    "sns.set(style=\"whitegrid\")\n",
    "\n",
    "\n",
    "# 使用 Seaborn 画箱线图\n",
    "plt.figure(figsize=(12, 6))\n",
    "\n",
    "# 计算总和并排序\n",
    "top_data['Total'] = top_data[['Applied research', 'Basic research']].sum(axis=1)\n",
    "top_data = top_data.sort_values('Total', ascending=True)\n",
    "\n",
    "# 删除 'Total' 列\n",
    "top_data = top_data.drop(columns='Total')\n",
    "top_data = top_data[['Basic research', 'Applied research']]\n",
    "\n",
    "# 绘制横向堆积柱状图\n",
    "ax = top_data.plot(kind='barh', stacked=True,color=[rgb_list[1],rgb_list[3]])\n",
    "\n",
    "# 添加标题和标签\n",
    "plt.xlabel('Number of press releases (2015-2022)')\n",
    "plt.ylabel('Institutions issuing press releases')\n",
    "#plt.ylabel('Journals')\n",
    "#plt.ylabel('Author affiliations of publications in press releases')\n",
    "# 添加图例\n",
    "plt.legend()\n",
    "#plt.legend(title='Subcategories', bbox_to_anchor=(1.05, 1), loc='upper left')\n",
    "\n",
    "# 显示图表\n",
    "plt.show()"
   ]
  }
 ],
 "metadata": {
  "kernelspec": {
   "display_name": "Python 3 (ipykernel)",
   "language": "python",
   "name": "python3"
  },
  "language_info": {
   "codemirror_mode": {
    "name": "ipython",
    "version": 3
   },
   "file_extension": ".py",
   "mimetype": "text/x-python",
   "name": "python",
   "nbconvert_exporter": "python",
   "pygments_lexer": "ipython3",
   "version": "3.9.13"
  }
 },
 "nbformat": 4,
 "nbformat_minor": 5
}
